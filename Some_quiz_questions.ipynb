{
 "cells": [
  {
   "cell_type": "markdown",
   "id": "5faac843",
   "metadata": {},
   "source": [
    "Question 9 of DS questionnaire proposed to César Augusto Noronha on 10/29/2021\n",
    "\n",
    "Python: Can you take a short list of strings and return a new list of strings with \"!\"\n",
    "appended to each string and using four different methods:"
   ]
  },
  {
   "cell_type": "markdown",
   "id": "c2f5f994",
   "metadata": {},
   "source": [
    "# Instructions\n"
   ]
  },
  {
   "cell_type": "markdown",
   "id": "5c6db396",
   "metadata": {},
   "source": [
    "Please run the cell below before run the solutions. You may select between different inputs."
   ]
  },
  {
   "cell_type": "code",
   "execution_count": 1,
   "id": "656ad938",
   "metadata": {},
   "outputs": [],
   "source": [
    "list_raw = [\"C\", \"A\", \"N\"] #Input\n",
    "#list_raw = [\"C\", \"A\", \"N\",\"C\", \"A\", \"N\",\"C\", \"A\", \"N\",\"C\", \"A\", \"N\",\"C\", \"A\", \"N\",\"C\", \"A\", \"N\",\"C\", \"A\", \"N\"] #Input\n",
    "#list_raw = ['!'] #Input\n",
    "#list_raw = [\"Cesar\", \"Augusto\", \"Noronha\"] #Input"
   ]
  },
  {
   "cell_type": "markdown",
   "id": "ad08c301",
   "metadata": {},
   "source": [
    "# a. for loop"
   ]
  },
  {
   "cell_type": "code",
   "execution_count": 2,
   "id": "4339b9a8",
   "metadata": {},
   "outputs": [
    {
     "name": "stdout",
     "output_type": "stream",
     "text": [
      "['C!', 'A!', 'N!']\n"
     ]
    }
   ],
   "source": [
    "list_for = list() #Creating empty List\n",
    "for name in list_raw:\n",
    "    list_for.append(\"!\".join(name)+'!') #Adding edited strings on the new list\n",
    "    \n",
    "print(list_for) #prints a list containing the new names"
   ]
  },
  {
   "cell_type": "markdown",
   "id": "e778e55e",
   "metadata": {},
   "source": [
    "# b. list comprehension"
   ]
  },
  {
   "cell_type": "code",
   "execution_count": 3,
   "id": "7d8301fe",
   "metadata": {},
   "outputs": [
    {
     "name": "stdout",
     "output_type": "stream",
     "text": [
      "['C!', 'A!', 'N!']\n"
     ]
    }
   ],
   "source": [
    "#Output   = [( Expression  )   i=intertactor  inputsequence]\n",
    "list_comp = [\"!\".join(list_raw[i])+'!' for i in range(len(list_raw))] \n",
    "\n",
    "print(list_comp) #prints a list containing the new names"
   ]
  },
  {
   "cell_type": "markdown",
   "id": "d54a5e6a",
   "metadata": {},
   "source": [
    "# c. map function"
   ]
  },
  {
   "cell_type": "code",
   "execution_count": 4,
   "id": "d1f7bb62",
   "metadata": {},
   "outputs": [
    {
     "name": "stdout",
     "output_type": "stream",
     "text": [
      "['C!', 'A!', 'N!']\n"
     ]
    }
   ],
   "source": [
    "#Output  = map(function applyed on names, input)\n",
    "list_map = map(lambda name: \"!\".join(name)+'!', list_raw)\n",
    "\n",
    "print(list(list_map)) #prints a list containing the new names"
   ]
  },
  {
   "cell_type": "markdown",
   "id": "258c96c9",
   "metadata": {},
   "source": [
    "# d. recursion"
   ]
  },
  {
   "cell_type": "code",
   "execution_count": 5,
   "id": "5d30991f",
   "metadata": {},
   "outputs": [
    {
     "name": "stdout",
     "output_type": "stream",
     "text": [
      "['C!', 'A!', 'N!']\n"
     ]
    }
   ],
   "source": [
    "#   function name (input list)\n",
    "def recursion_edit(list_of_names):\n",
    "    result = [] #empty list\n",
    "    for name in list_of_names:  #for loop declaration\n",
    "        new_name = \"!\".join(name)+'!'   #new name edited\n",
    "        result.append(new_name) #add new name to list\n",
    "    return result\n",
    "\n",
    "list_rec = recursion_edit(list_raw) #calling function\n",
    "\n",
    "print(list_rec) #prints a list containing the new names"
   ]
  },
  {
   "cell_type": "code",
   "execution_count": null,
   "id": "85b7a13c",
   "metadata": {},
   "outputs": [],
   "source": []
  }
 ],
 "metadata": {
  "kernelspec": {
   "display_name": "Python 3 (ipykernel)",
   "language": "python",
   "name": "python3"
  },
  "language_info": {
   "codemirror_mode": {
    "name": "ipython",
    "version": 3
   },
   "file_extension": ".py",
   "mimetype": "text/x-python",
   "name": "python",
   "nbconvert_exporter": "python",
   "pygments_lexer": "ipython3",
   "version": "3.8.8"
  }
 },
 "nbformat": 4,
 "nbformat_minor": 5
}
